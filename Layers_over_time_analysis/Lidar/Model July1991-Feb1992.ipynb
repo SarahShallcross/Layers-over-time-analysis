{
 "cells": [
  {
   "cell_type": "code",
   "execution_count": 2,
   "metadata": {
    "collapsed": false
   },
   "outputs": [
    {
     "name": "stderr",
     "output_type": "stream",
     "text": [
      "/apps/developers/compilers/canopy/1.7.4/1/bit-64/Enthought/Canopy_64bit/User/lib/python2.7/site-packages/ipykernel/__main__.py:47: RuntimeWarning: divide by zero encountered in log10\n"
     ]
    }
   ],
   "source": [
    "import iris\n",
    "import iris.coords as icoords\n",
    "import numpy as np\n",
    "import matplotlib.pyplot as plt\n",
    "import pandas as pd\n",
    "\n",
    "level_number_coord = icoords.DimCoord(range(1,86), standard_name='model_level_number')\n",
    "model_height = np.loadtxt('/nfs/see-fs-01_users/gy11s2s/Python/Layers_over_time_analysis/Model/model_height_levels.txt', delimiter=',')\n",
    "#hybrid_ht = np.array([20, 53.33334, 100, 160, 233.3333, 320, 420, 533.3334, 659.9999, 799.9999, 953.3337, 1120, 1300, 1493.333, 1700, 1920, 2153.333, 2400, 2659.999, 2933.333, 3220, 3520, 3833.333, 4160, 4500, 4853.333, 5220, 5600, 5993.333, 6400, 6820, 7253.333, 7700, 8160.001, 8633.34, 9120.007, 9620.02, 10133.37, 10660.08, 11200.16, 11753.64, 12320.55, 12900.93, 13494.88, 14102.48, 14723.88, 15359.24, 16008.82, 16672.9, 17351.9, 18046.29, 18756.7, 19483.89, 20228.78, 20992.53, 21776.51, 22582.39, 23412.16, 24268.18, 25153.22, 26070.59, 27024.11, 28018.26, 29058.23, 30150.02, 31300.54, 32517.71, 33810.59, 35189.52, 36666.24, 38254.03, 39967.93, 41824.85, 43843.83, 46046.21, 48455.83, 51099.35, 54006.43,57210.02,60746.7,64656.96,68985.52,73781.77,79100.02,85000])\n",
    "\n",
    "MLO_data = iris.load_cube('/nfs/see-fs-01_users/gy11s2s/Python/Layers_over_time_analysis/model_extinction_sites/Extinction_550nm_site_10.nc')\n",
    "\n",
    "x = np.array(range(0,3600)) #TIME FOR WHOLE RANGE OF MODEL DATA\n",
    "\n",
    "# Setting time to 3600(240(10 days x 3 x 8 points/day) x 15 (number of months Dec1990-Feb1992))/120 = 30\n",
    "# 1-30 = Dec1990, 31-60 = Jan1991 etc...\n",
    "time = (x/240) # Each month has an index e.g. 0 = Dec1990\n",
    "months = ['Dec 1990', 'Jan 1991', 'Feb 1991','Mar 1991', 'Apr 1991', 'May 1991', 'Jun 1991', 'Jul 1991', 'Aug 1991', 'Sep 1991', 'Oct 1991', 'Nov 1991', 'Dec 1991', 'Jan 1992', 'Feb 1992','Mar 1992']\n",
    "\n",
    "x = np.array(range(0,(240*15)))\n",
    "\n",
    "# NB If setting sliced time - x range has to match the sliced time within the array e.g. plt.contourf(range(1000,3000),y1,data[0:72,1000:3000])\n",
    "\n",
    "y = list(level_number_coord.points) # height for model heights\n",
    "y1 = model_height/1000 # Height for REAL heights relative to 85 model levels\n",
    "# y1[0:72] = ~ 40 km (in order to compare with obs data)\n",
    "\n",
    "# For data from raw file - requires slicing \n",
    "#plt.figure()\n",
    "\n",
    "data = np.transpose(MLO_data.data)\n",
    "\n",
    "# NEELY HELP\n",
    "# define the colormap\n",
    "cmap = plt.cm.get_cmap('OrRd', 11)\n",
    "# extract all colors from the map\n",
    "cmaplist = [cmap(i) for i in range(cmap.N)]\n",
    "# force the first color entry to be grey\n",
    "cmaplist[0] = (1.0,1.0,1.0,1.0)\n",
    "# create the new map\n",
    "cmap = cmap.from_list('Custom cmap', cmaplist, cmap.N)\n",
    "#Set Color For Values less than plot Bounds\n",
    "cmap.set_under('w')\n",
    "\n",
    "MLO_data_masked_array=np.ma.masked_where(data==0, data)\n",
    "MLO_data_masked_array_km=MLO_data_masked_array*1000\n",
    "MLO_data_masked_array_Log=np.log10(MLO_data_masked_array_km)\n",
    "fig = plt.figure(figsize=(15, 5))\n",
    "ax = fig.add_subplot(111)\n",
    "MLO=ax.contourf(x[1680:3600],y1[0:72],MLO_data_masked_array_km[0:72,1680:3600],8,cmap=cmap)#, vmin=0, vmax=2)\n",
    "cbar = plt.colorbar(MLO)\n",
    "plt.xlim(1680,3576)\n",
    "plt.ylim(17,30)\n",
    "plt.grid()\n",
    "plt.title('Extinction (km$^{-1}$) at Mauna Loa (550 nm) July 1991 - February 1992')\n",
    "plt.xlabel('Time')\n",
    "plt.ylabel('Altitude (km)')\n",
    "plt.xticks((x[7:15]*240), months[7:15]) # \n",
    "fig.savefig('/nfs/see-fs-01_users/gy11s2s/Python/Layers_over_time_analysis/Model/July1991-Feb251992.png', bbox_inches='tight')"
   ]
  },
  {
   "cell_type": "code",
   "execution_count": null,
   "metadata": {
    "collapsed": true
   },
   "outputs": [],
   "source": []
  }
 ],
 "metadata": {
  "kernelspec": {
   "display_name": "Python 2",
   "language": "python",
   "name": "python2"
  },
  "language_info": {
   "codemirror_mode": {
    "name": "ipython",
    "version": 2
   },
   "file_extension": ".py",
   "mimetype": "text/x-python",
   "name": "python",
   "nbconvert_exporter": "python",
   "pygments_lexer": "ipython2",
   "version": "2.7.11"
  }
 },
 "nbformat": 4,
 "nbformat_minor": 2
}
