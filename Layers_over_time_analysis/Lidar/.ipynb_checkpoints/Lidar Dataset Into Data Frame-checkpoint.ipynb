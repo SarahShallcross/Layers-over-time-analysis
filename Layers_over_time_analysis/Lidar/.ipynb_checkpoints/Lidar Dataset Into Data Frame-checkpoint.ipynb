{
 "cells": [
  {
   "cell_type": "code",
   "execution_count": 2,
   "metadata": {
    "collapsed": true
   },
   "outputs": [],
   "source": [
    "import pandas as pd\n",
    "import os\n",
    "import numpy as np\n",
    "import matplotlib.pyplot as plt\n",
    "%matplotlib inline"
   ]
  },
  {
   "cell_type": "code",
   "execution_count": null,
   "metadata": {
    "collapsed": true
   },
   "outputs": [],
   "source": [
    "#Make Data Frame Using Parameters form First"
   ]
  },
  {
   "cell_type": "code",
   "execution_count": 3,
   "metadata": {
    "collapsed": false
   },
   "outputs": [],
   "source": [
    "#get all the Files\n",
    "path='/nfs/see-fs-01_users/gy11s2s/Python/NDACC_files/MLO/Plotting_months/1991/July/'\n",
    "file_paths = []\n",
    "file_names = sorted(os.listdir(path))\n",
    "for name in file_names:\n",
    "        filepath = os.path.join(path,name)\n",
    "        if os.path.isfile(filepath) and filepath[-4:] == '.txt':\n",
    "            file_paths.append(filepath)"
   ]
  },
  {
   "cell_type": "code",
   "execution_count": 4,
   "metadata": {
    "collapsed": false
   },
   "outputs": [
    {
     "name": "stdout",
     "output_type": "stream",
     "text": [
      "/nfs/see-fs-01_users/gy11s2s/Python/NDACC_files/MLO/Plotting_months/1991/July/1991.07.01.txt\n",
      "1991-07-01 00:00:00\n",
      "/nfs/see-fs-01_users/gy11s2s/Python/NDACC_files/MLO/Plotting_months/1991/July/1991.07.02.txt\n",
      "1991-07-02 00:00:00\n",
      "/nfs/see-fs-01_users/gy11s2s/Python/NDACC_files/MLO/Plotting_months/1991/July/1991.07.03.txt\n",
      "1991-07-03 00:00:00\n",
      "/nfs/see-fs-01_users/gy11s2s/Python/NDACC_files/MLO/Plotting_months/1991/July/1991.07.05.txt\n",
      "1991-07-05 00:00:00\n",
      "/nfs/see-fs-01_users/gy11s2s/Python/NDACC_files/MLO/Plotting_months/1991/July/1991.07.08.txt\n",
      "1991-07-08 00:00:00\n",
      "/nfs/see-fs-01_users/gy11s2s/Python/NDACC_files/MLO/Plotting_months/1991/July/1991.07.10.txt\n",
      "1991-07-10 00:00:00\n",
      "/nfs/see-fs-01_users/gy11s2s/Python/NDACC_files/MLO/Plotting_months/1991/July/1991.07.12.txt\n",
      "1991-07-12 00:00:00\n",
      "/nfs/see-fs-01_users/gy11s2s/Python/NDACC_files/MLO/Plotting_months/1991/July/1991.07.15.txt\n",
      "1991-07-15 00:00:00\n",
      "/nfs/see-fs-01_users/gy11s2s/Python/NDACC_files/MLO/Plotting_months/1991/July/1991.07.17.txt\n",
      "1991-07-17 00:00:00\n",
      "/nfs/see-fs-01_users/gy11s2s/Python/NDACC_files/MLO/Plotting_months/1991/July/1991.07.19.txt\n",
      "1991-07-19 00:00:00\n",
      "/nfs/see-fs-01_users/gy11s2s/Python/NDACC_files/MLO/Plotting_months/1991/July/1991.07.22.txt\n",
      "1991-07-22 00:00:00\n",
      "/nfs/see-fs-01_users/gy11s2s/Python/NDACC_files/MLO/Plotting_months/1991/July/1991.07.24.txt\n",
      "1991-07-24 00:00:00\n",
      "/nfs/see-fs-01_users/gy11s2s/Python/NDACC_files/MLO/Plotting_months/1991/July/1991.07.26.txt\n",
      "1991-07-26 00:00:00\n",
      "/nfs/see-fs-01_users/gy11s2s/Python/NDACC_files/MLO/Plotting_months/1991/July/1991.07.29.txt\n",
      "1991-07-29 00:00:00\n",
      "/nfs/see-fs-01_users/gy11s2s/Python/NDACC_files/MLO/Plotting_months/1991/July/1991.07.31.txt\n",
      "1991-07-31 00:00:00\n"
     ]
    }
   ],
   "source": [
    "df_MLO = pd.DataFrame()\n",
    "for files in file_paths:\n",
    "    print files\n",
    "    #Read in First First File\n",
    "    data = np.loadtxt(fname=files, delimiter=',', skiprows=2, usecols=(0,1))\n",
    "    col1 = data[:,0]\n",
    "    col2 = data[:,1]\n",
    "    altitude = col1/1000# Converts altitude to km\n",
    "    backscatter=col2*0.001\n",
    "    Date=pd.to_datetime(files[-14:-4], format='%Y.%m.%d')\n",
    "    d_backscatter={Date : backscatter}\n",
    "    print Date\n",
    "    if df_MLO.empty:\n",
    "        df_MLO = pd.DataFrame(d_backscatter, index=altitude)\n",
    "    else:\n",
    "        df_temp_BS=pd.DataFrame(d_backscatter, index=altitude)\n",
    "        df_MLO = df_MLO.join(df_temp_BS)\n",
    "\n",
    "#Transposes Axes so that the TIme is the Index, Makes reading it back in easier.        \n",
    "df_MLO=df_MLO.transpose()\n"
   ]
  },
  {
   "cell_type": "code",
   "execution_count": null,
   "metadata": {
    "collapsed": false
   },
   "outputs": [],
   "source": []
  },
  {
   "cell_type": "code",
   "execution_count": 5,
   "metadata": {
    "collapsed": false
   },
   "outputs": [],
   "source": [
    "#Save data to CSV File\n",
    "df_MLO.to_csv(path+'MLO_July.csv')"
   ]
  },
  {
   "cell_type": "code",
   "execution_count": 7,
   "metadata": {
    "collapsed": false
   },
   "outputs": [
    {
     "data": {
      "text/plain": [
       "<bound method DataFrame.as_matrix of         1991-07-01  1991-07-02  1991-07-03  1991-07-05  1991-07-08  \\\n",
       "15.692       1.334       1.106       1.175       1.290       1.223   \n",
       "15.992       1.141       1.178       1.155       1.167       1.192   \n",
       "16.292       1.124       1.499       1.144       1.153       1.144   \n",
       "16.592       1.144       1.219       1.185       1.169       1.120   \n",
       "16.892       1.160       1.095       1.140       1.133       1.129   \n",
       "17.191       1.179       1.069       1.111       1.132       1.135   \n",
       "17.491       1.155       1.073       1.129       1.152       1.168   \n",
       "17.791       1.180       1.081       1.140       1.165       1.221   \n",
       "18.091       1.179       1.109       1.161       1.168       1.243   \n",
       "18.391       1.202       1.093       1.159       1.179       1.259   \n",
       "18.69        1.225       1.109       1.187       1.173       1.609   \n",
       "18.99        1.214       1.127       1.212       1.200       4.655   \n",
       "19.29        1.205       1.126       1.197       1.248      10.690   \n",
       "19.59        1.219       1.119       1.236       1.403      12.717   \n",
       "19.89        1.235       1.138       1.258       1.367      13.426   \n",
       "20.189       1.240       1.154       1.306       1.663      16.895   \n",
       "20.489       1.243       1.176       1.408       2.565       9.091   \n",
       "20.789       1.267       1.365       2.454       4.598       5.026   \n",
       "21.089       1.263       4.113       6.057      10.354      27.502   \n",
       "21.388       1.317      13.884      10.359       7.136      65.782   \n",
       "21.688       1.607      14.427       9.292       6.703      82.880   \n",
       "21.988       3.447      21.858       1.669      25.299      50.970   \n",
       "22.288      13.705      17.025       1.508      70.236       8.977   \n",
       "22.588      15.053       1.302      18.677      49.346       1.343   \n",
       "22.887       4.951       1.237      31.786       3.581       1.187   \n",
       "23.187       1.356       4.071      20.241       1.608       1.061   \n",
       "23.487       1.350       6.266     120.639       1.385       1.030   \n",
       "23.787       1.337       1.228      86.339       1.361       1.050   \n",
       "24.087       1.332       1.479      24.341       1.311       1.064   \n",
       "24.386       1.364       2.567       1.828       1.319       1.061   \n",
       "...            ...         ...         ...         ...         ...   \n",
       "31.581       1.440       1.474       1.576       1.621       1.184   \n",
       "31.881       1.529       1.462       1.758       1.640       1.156   \n",
       "32.181       1.452       1.393       1.623       1.543       1.185   \n",
       "32.481       1.485       1.483       1.526       1.578       1.203   \n",
       "32.781       1.551       1.432       1.524       1.527       1.153   \n",
       "33.08        1.506       1.351       1.615       1.581       1.193   \n",
       "33.38        1.407       1.418       1.581       1.657       0.997   \n",
       "33.68        1.406       1.386       1.585       1.600       1.018   \n",
       "33.98        1.423       1.328       1.506       1.501       1.048   \n",
       "34.28        1.397       1.356       1.445       1.514       1.026   \n",
       "34.579       1.393       1.435       1.391       1.660       0.830   \n",
       "34.879       1.287       1.388       1.447       1.459       0.932   \n",
       "35.179       1.236       1.378       1.113       1.389       0.800   \n",
       "35.479       1.208       1.347       1.512       1.534       0.962   \n",
       "35.778       1.305       1.447       1.427       1.390       0.826   \n",
       "36.078       1.363       1.461       1.447       1.675       0.897   \n",
       "36.378       1.330       1.471       1.543       1.567       0.740   \n",
       "36.678       1.355       1.303       1.379       1.326       0.577   \n",
       "36.978       1.352       1.272       1.914       1.389       0.632   \n",
       "37.277       1.136       1.140       1.435       1.083       0.344   \n",
       "37.577       1.179       1.159       0.868       1.226       0.411   \n",
       "37.877       1.002       1.199       0.993       1.051       0.293   \n",
       "38.177       0.958       0.862       1.150       1.026      -0.208   \n",
       "38.477       0.828       1.045       1.171       0.932       0.120   \n",
       "38.776       1.032       0.848       1.079       0.820       0.023   \n",
       "39.076       0.936       0.938       0.188       0.736      -0.089   \n",
       "39.376       0.830       1.021       0.654       0.649      -0.295   \n",
       "39.676       1.072       0.621      -0.003       0.564      -0.590   \n",
       "39.976       0.483       0.464       0.174       0.507       0.072   \n",
       "40.275       0.533       0.432       0.098       0.775      -0.377   \n",
       "\n",
       "        1991-07-10  1991-07-12  1991-07-15  1991-07-17  1991-07-19  \\\n",
       "15.692       1.281       1.599       1.219       1.224       1.210   \n",
       "15.992       1.282       1.709       1.273       1.285       1.228   \n",
       "16.292       1.200       1.420       1.418       1.353       1.212   \n",
       "16.592       1.178       1.177       1.537       1.364       1.255   \n",
       "16.892       1.130       1.099       1.510       1.436       1.225   \n",
       "17.191       1.145       1.140       1.175       2.473       1.432   \n",
       "17.491       1.213       1.188       1.379       5.217       2.221   \n",
       "17.791       1.259       1.486       6.218       7.147       2.638   \n",
       "18.091       1.467       7.807      12.921       9.833       5.863   \n",
       "18.391      13.169      15.978      15.727      16.241       9.678   \n",
       "18.69       19.357      10.846      18.594      22.207       4.945   \n",
       "18.99        8.667      12.673      21.081      18.208       1.917   \n",
       "19.29       11.038      22.574      15.820       2.689       1.173   \n",
       "19.59       15.909      29.585       4.198       1.499       1.170   \n",
       "19.89       10.975       8.428       2.414       1.500       1.175   \n",
       "20.189      27.022       1.113       1.099       1.094       1.190   \n",
       "20.489      44.488       1.155       1.043       1.112       1.188   \n",
       "20.789      23.472       1.333       1.039       1.126       1.191   \n",
       "21.089       3.203       1.134       1.064       1.141       1.200   \n",
       "21.388       2.598       1.097       1.060       1.119       1.232   \n",
       "21.688       1.181       1.099       1.066       1.134       1.241   \n",
       "21.988       1.133       1.101       1.094       1.139       1.247   \n",
       "22.288       1.127       1.093       1.088       1.140       1.258   \n",
       "22.588       1.151       1.095       1.083       1.166       1.276   \n",
       "22.887       1.147       1.091       1.105       1.168       1.255   \n",
       "23.187       1.126       1.104       1.108       1.161       1.261   \n",
       "23.487       1.167       1.103       1.111       1.180       1.273   \n",
       "23.787       1.166       1.096       1.137       1.185       1.275   \n",
       "24.087       1.163       1.123       1.178       1.254       1.292   \n",
       "24.386       1.203       1.143       1.210       1.235       1.302   \n",
       "...            ...         ...         ...         ...         ...   \n",
       "31.581       1.559       1.364       1.416       1.372       1.519   \n",
       "31.881       1.577       1.411       1.498       1.381       1.533   \n",
       "32.181       1.456       1.463       1.444       1.445       1.526   \n",
       "32.481       1.441       1.390       1.454       1.418       1.592   \n",
       "32.781       1.528       1.515       1.453       1.369       1.596   \n",
       "33.08        1.467       1.438       1.488       1.417       1.530   \n",
       "33.38        1.511       1.512       1.396       1.314       1.495   \n",
       "33.68        1.533       1.475       1.413       1.333       1.452   \n",
       "33.98        1.577       1.336       1.362       1.366       1.506   \n",
       "34.28        1.460       1.362       1.318       1.349       1.450   \n",
       "34.579       1.577       1.354       1.321       1.346       1.402   \n",
       "34.879       1.567       1.234       1.311       1.228       1.308   \n",
       "35.179       1.448       1.294       1.320       1.317       1.306   \n",
       "35.479       1.437       1.307       1.297       1.322       1.359   \n",
       "35.778       1.454       1.401       1.427       1.361       1.442   \n",
       "36.078       1.364       1.420       1.385       1.310       1.406   \n",
       "36.378       1.320       1.460       1.272       1.391       1.336   \n",
       "36.678       1.451       1.420       1.241       1.243       1.363   \n",
       "36.978       1.351       1.316       1.155       1.184       1.189   \n",
       "37.277       1.197       1.279       1.076       0.986       1.072   \n",
       "37.577       1.396       1.167       1.078       1.176       1.100   \n",
       "37.877       1.136       1.105       0.796       1.080       1.062   \n",
       "38.177       1.090       1.103       0.648       0.767       1.049   \n",
       "38.477       1.031       0.815       0.735       0.897       0.981   \n",
       "38.776       1.004       0.718       0.536       0.672       0.917   \n",
       "39.076       0.757       0.720       0.767       0.708       1.030   \n",
       "39.376       0.747       1.105       0.820       1.018       0.897   \n",
       "39.676       1.241       1.006       0.867       0.856       0.541   \n",
       "39.976       0.894       0.550       0.758       0.763       0.940   \n",
       "40.275       0.803       0.480       0.569       0.460       0.432   \n",
       "\n",
       "        1991-07-22  1991-07-24  1991-07-26  1991-07-29  1991-07-31  \n",
       "15.692       1.657       1.481       1.372       1.233       1.253  \n",
       "15.992       1.442       1.571       1.486       1.308       1.262  \n",
       "16.292       1.208       1.545       1.644       1.419       1.387  \n",
       "16.592       1.204       1.561       1.631       1.533       1.563  \n",
       "16.892       1.288       2.215       1.960       1.727       1.625  \n",
       "17.191       1.562       2.703       2.132       2.400       1.909  \n",
       "17.491       3.001       3.310       2.570       3.638       2.176  \n",
       "17.791       2.961       2.954       3.933       3.036       2.968  \n",
       "18.091       6.338       3.251       3.338       2.779       2.720  \n",
       "18.391       5.156       2.091       2.647       2.205       1.662  \n",
       "18.69        2.621       2.204       3.102       2.404       1.485  \n",
       "18.99        1.812       1.594       3.119       3.127       1.431  \n",
       "19.29        1.224       1.184       1.952       2.834       1.358  \n",
       "19.59        1.135       1.247       1.316       2.350       1.590  \n",
       "19.89        1.138       1.175       1.214       1.633       2.421  \n",
       "20.189       1.142       1.148       1.267       2.010       4.134  \n",
       "20.489       1.149       1.196       1.292       3.268      13.210  \n",
       "20.789       1.167       1.274       1.433       5.306      24.923  \n",
       "21.089       1.199       1.256       1.898      16.590      20.908  \n",
       "21.388       1.210       1.731       4.143      24.419      10.750  \n",
       "21.688       1.345       3.622       7.912      27.181      50.395  \n",
       "21.988       1.740       7.081      13.286      43.908      38.415  \n",
       "22.288       5.108      12.063      27.961      62.345      26.883  \n",
       "22.588       7.507      10.969      54.662      50.719      21.153  \n",
       "22.887      11.584      24.085      57.781      16.804      19.019  \n",
       "23.187      59.270     114.698      46.730       6.202       9.039  \n",
       "23.487      72.570     121.526      48.931       9.480       1.194  \n",
       "23.787      76.801      94.228      40.786      25.349       1.128  \n",
       "24.087     111.285      52.520      43.727       2.410       1.140  \n",
       "24.386     117.801      98.294      14.509       1.236       1.119  \n",
       "...            ...         ...         ...         ...         ...  \n",
       "31.581       1.411       1.379       1.448       1.410       1.374  \n",
       "31.881       1.344       1.386       1.394       1.416       1.370  \n",
       "32.181       1.435       1.378       1.461       1.456       1.278  \n",
       "32.481       1.342       1.453       1.426       1.417       1.420  \n",
       "32.781       1.474       1.376       1.617       1.447       1.378  \n",
       "33.08        1.286       1.393       1.440       1.513       1.354  \n",
       "33.38        1.427       1.475       1.351       1.452       1.403  \n",
       "33.68        1.386       1.522       1.485       1.484       1.448  \n",
       "33.98        1.435       1.501       1.340       1.417       1.391  \n",
       "34.28        1.201       1.442       1.366       1.271       1.378  \n",
       "34.579       1.414       1.412       1.320       1.363       1.399  \n",
       "34.879       1.524       1.344       1.329       1.454       1.304  \n",
       "35.179       1.411       1.333       1.406       1.386       1.247  \n",
       "35.479       1.408       1.633       1.555       1.357       1.237  \n",
       "35.778       1.359       1.523       1.312       1.305       1.349  \n",
       "36.078       1.228       1.756       1.278       1.447       1.414  \n",
       "36.378       1.428       1.609       1.621       1.353       1.262  \n",
       "36.678       1.499       1.624       1.538       1.351       1.377  \n",
       "36.978       1.386       1.522       1.214       1.323       1.321  \n",
       "37.277       1.330       1.676       1.213       1.250       1.337  \n",
       "37.577       1.123       1.475       1.118       1.010       1.276  \n",
       "37.877       1.345       1.472       1.089       0.968       1.199  \n",
       "38.177       1.298       1.165       1.189       1.057       1.186  \n",
       "38.477       0.845       0.971       0.801       0.944       1.111  \n",
       "38.776       1.235       1.194       0.854       1.142       1.119  \n",
       "39.076       0.971       0.998       0.940       0.889       1.243  \n",
       "39.376       1.169       1.198       0.713       0.925       0.998  \n",
       "39.676       1.086       1.422       0.860       0.849       0.851  \n",
       "39.976       0.606       1.098       0.220       0.915       0.660  \n",
       "40.275       0.735       1.466       0.288       0.644       0.702  \n",
       "\n",
       "[83 rows x 15 columns]>"
      ]
     },
     "execution_count": 7,
     "metadata": {},
     "output_type": "execute_result"
    }
   ],
   "source": [
    "#Read from CSV File\n",
    "MLO_data = pd.DataFrame()\n",
    "MLO_data=pd.read_csv('/nfs/see-fs-01_users/gy11s2s/Python/NDACC_files/MLO/Plotting_months/1991/July/MLO_July.csv',\n",
    "                     index_col=0,parse_dates=True,infer_datetime_format=True)\n",
    "#Convert the frame to its Numpy-array representation.\n",
    "MLO_data=MLO_data.transpose() # Transpose it so it is easier to plot\n",
    "MLO_data.as_matrix #Turns it into a normal Numpy array;\n",
    "                    #Doing this makes it so you dont have to define X, Y and Z when plotting"
   ]
  },
  {
   "cell_type": "code",
   "execution_count": 8,
   "metadata": {
    "collapsed": false
   },
   "outputs": [
    {
     "data": {
      "text/plain": [
       "<matplotlib.contour.QuadContourSet at 0x7fcd84bd7750>"
      ]
     },
     "execution_count": 8,
     "metadata": {},
     "output_type": "execute_result"
    },
    {
     "data": {
      "image/png": "[encoded data removed]",
      "text/plain": [
       "<matplotlib.figure.Figure at 0x7fcd84c18190>"
      ]
     },
     "metadata": {},
     "output_type": "display_data"
    }
   ],
   "source": [
    "#Plot Contour form Data Frame As a Matrix\n",
    "\n",
    "fig = plt.figure()\n",
    "graph = fig.add_subplot(111)\n",
    "graph.contourf(MLO_data)\n",
    "#Not quite sure why it does not use the dates on the x axis or actual altitudes"
   ]
  },
  {
   "cell_type": "code",
   "execution_count": 9,
   "metadata": {
    "collapsed": false,
    "scrolled": false
   },
   "outputs": [
    {
     "name": "stderr",
     "output_type": "stream",
     "text": [
      "/apps/developers/compilers/canopy/1.7.4/1/bit-64/Enthought/Canopy_64bit/User/lib/python2.7/site-packages/ipykernel/__main__.py:23: RuntimeWarning: invalid value encountered in log10\n"
     ]
    },
    {
     "data": {
      "text/plain": [
       "(17, 28)"
      ]
     },
     "execution_count": 9,
     "metadata": {},
     "output_type": "execute_result"
    },
    {
     "data": {
      "image/png": "[encoded data removed]",
      "text/plain": [
       "<matplotlib.figure.Figure at 0x7fcd84beff90>"
      ]
     },
     "metadata": {},
     "output_type": "display_data"
    }
   ],
   "source": [
    "#Using column and Index Info\n",
    "Dates=MLO_data.columns# This is in date time format so it is easy to deal with\n",
    "#print Dates\n",
    "Alts=map(float,pd.Index.tolist(MLO_data.index)) #Initially this is in a funny Index object so we need to change to a list of float values\n",
    "#print Alts\n",
    "\n",
    "\n",
    "# define the colormap\n",
    "cmap = plt.cm.get_cmap('OrRd', 11)\n",
    "# extract all colors from the map\n",
    "cmaplist = [cmap(i) for i in range(cmap.N)]\n",
    "# force the first color entry to be grey\n",
    "cmaplist[0] = (1.0,1.0,1.0,1.0)\n",
    "# create the new map\n",
    "cmap = cmap.from_list('Custom cmap', cmaplist, cmap.N)\n",
    "#Set Color For Values less than plot Bounds\n",
    "cmap.set_under('w')\n",
    "\n",
    "\n",
    "MLO_data_masked_array=np.ma.masked_where(MLO_data<1, MLO_data) # Masking out data below a Threshold\n",
    "\n",
    "#Make it Log-Scale to See FIne Details.\n",
    "MLO_data_masked_array_Log=np.log10(MLO_data_masked_array)\n",
    "\n",
    "fig = plt.figure(figsize=(15, 5))\n",
    "ax = fig.add_subplot(111)\n",
    "MLO=ax.contourf(Dates,Alts,MLO_data_masked_array_Log,8,cmap=cmap, vmin=0, vmax=2)\n",
    "cbar = plt.colorbar(MLO)\n",
    "plt.grid()\n",
    "plt.ylim(17,28)"
   ]
  },
  {
   "cell_type": "code",
   "execution_count": null,
   "metadata": {
    "collapsed": true
   },
   "outputs": [],
   "source": []
  },
  {
   "cell_type": "code",
   "execution_count": null,
   "metadata": {
    "collapsed": true
   },
   "outputs": [],
   "source": []
  },
  {
   "cell_type": "code",
   "execution_count": null,
   "metadata": {
    "collapsed": true
   },
   "outputs": [],
   "source": []
  }
 ],
 "metadata": {
  "kernelspec": {
   "display_name": "Python 2",
   "language": "python",
   "name": "python2"
  },
  "language_info": {
   "codemirror_mode": {
    "name": "ipython",
    "version": 2
   },
   "file_extension": ".py",
   "mimetype": "text/x-python",
   "name": "python",
   "nbconvert_exporter": "python",
   "pygments_lexer": "ipython2",
   "version": "2.7.11"
  }
 },
 "nbformat": 4,
 "nbformat_minor": 2
}
